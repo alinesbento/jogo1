{
 "cells": [
  {
   "cell_type": "code",
   "execution_count": null,
   "metadata": {},
   "outputs": [],
   "source": []
  }
 ],
 "metadata": {
  "kernelspec": {
   "display_name": "Python 3.10.8 64-bit",
   "language": "python",
   "name": "python3"
  },
  "language_info": {
   "name": "python",
   "version": "3.10.8"
  },
  "orig_nbformat": 4,
  "vscode": {
   "interpreter": {
    "hash": "e34e600ac14426fe47feb747b9223b81a026c1cdb1da0dc6334bec00dad85197"
   }
  }
 },
 "nbformat": 4,
 "nbformat_minor": 2
}
